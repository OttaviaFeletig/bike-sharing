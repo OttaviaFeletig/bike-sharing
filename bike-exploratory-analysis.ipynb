{
 "metadata": {
  "language_info": {
   "codemirror_mode": {
    "name": "ipython",
    "version": 3
   },
   "file_extension": ".py",
   "mimetype": "text/x-python",
   "name": "python",
   "nbconvert_exporter": "python",
   "pygments_lexer": "ipython3",
   "version": "3.8.3-final"
  },
  "orig_nbformat": 2,
  "kernelspec": {
   "name": "python3",
   "display_name": "Python 3"
  }
 },
 "nbformat": 4,
 "nbformat_minor": 2,
 "cells": [
  {
   "cell_type": "code",
   "execution_count": 89,
   "metadata": {},
   "outputs": [],
   "source": [
    "import pandas as pd\n",
    "import numpy as np"
   ]
  },
  {
   "cell_type": "code",
   "execution_count": 90,
   "metadata": {},
   "outputs": [
    {
     "output_type": "execute_result",
     "data": {
      "text/plain": [
       "       instant      dteday  season  yr  mnth  hr  holiday  weekday  \\\n",
       "0            1  2011-01-01       1   0     1   0        0        6   \n",
       "1            2  2011-01-01       1   0     1   1        0        6   \n",
       "2            3  2011-01-01       1   0     1   2        0        6   \n",
       "3            4  2011-01-01       1   0     1   3        0        6   \n",
       "4            5  2011-01-01       1   0     1   4        0        6   \n",
       "...        ...         ...     ...  ..   ...  ..      ...      ...   \n",
       "17374    17375  2012-12-31       1   1    12  19        0        1   \n",
       "17375    17376  2012-12-31       1   1    12  20        0        1   \n",
       "17376    17377  2012-12-31       1   1    12  21        0        1   \n",
       "17377    17378  2012-12-31       1   1    12  22        0        1   \n",
       "17378    17379  2012-12-31       1   1    12  23        0        1   \n",
       "\n",
       "       workingday  weathersit  temp   atemp   hum  windspeed  casual  \\\n",
       "0               0           1  0.24  0.2879  0.81     0.0000       3   \n",
       "1               0           1  0.22  0.2727  0.80     0.0000       8   \n",
       "2               0           1  0.22  0.2727  0.80     0.0000       5   \n",
       "3               0           1  0.24  0.2879  0.75     0.0000       3   \n",
       "4               0           1  0.24  0.2879  0.75     0.0000       0   \n",
       "...           ...         ...   ...     ...   ...        ...     ...   \n",
       "17374           1           2  0.26  0.2576  0.60     0.1642      11   \n",
       "17375           1           2  0.26  0.2576  0.60     0.1642       8   \n",
       "17376           1           1  0.26  0.2576  0.60     0.1642       7   \n",
       "17377           1           1  0.26  0.2727  0.56     0.1343      13   \n",
       "17378           1           1  0.26  0.2727  0.65     0.1343      12   \n",
       "\n",
       "       registered  cnt  \n",
       "0              13   16  \n",
       "1              32   40  \n",
       "2              27   32  \n",
       "3              10   13  \n",
       "4               1    1  \n",
       "...           ...  ...  \n",
       "17374         108  119  \n",
       "17375          81   89  \n",
       "17376          83   90  \n",
       "17377          48   61  \n",
       "17378          37   49  \n",
       "\n",
       "[17379 rows x 17 columns]"
      ],
      "text/html": "<div>\n<style scoped>\n    .dataframe tbody tr th:only-of-type {\n        vertical-align: middle;\n    }\n\n    .dataframe tbody tr th {\n        vertical-align: top;\n    }\n\n    .dataframe thead th {\n        text-align: right;\n    }\n</style>\n<table border=\"1\" class=\"dataframe\">\n  <thead>\n    <tr style=\"text-align: right;\">\n      <th></th>\n      <th>instant</th>\n      <th>dteday</th>\n      <th>season</th>\n      <th>yr</th>\n      <th>mnth</th>\n      <th>hr</th>\n      <th>holiday</th>\n      <th>weekday</th>\n      <th>workingday</th>\n      <th>weathersit</th>\n      <th>temp</th>\n      <th>atemp</th>\n      <th>hum</th>\n      <th>windspeed</th>\n      <th>casual</th>\n      <th>registered</th>\n      <th>cnt</th>\n    </tr>\n  </thead>\n  <tbody>\n    <tr>\n      <th>0</th>\n      <td>1</td>\n      <td>2011-01-01</td>\n      <td>1</td>\n      <td>0</td>\n      <td>1</td>\n      <td>0</td>\n      <td>0</td>\n      <td>6</td>\n      <td>0</td>\n      <td>1</td>\n      <td>0.24</td>\n      <td>0.2879</td>\n      <td>0.81</td>\n      <td>0.0000</td>\n      <td>3</td>\n      <td>13</td>\n      <td>16</td>\n    </tr>\n    <tr>\n      <th>1</th>\n      <td>2</td>\n      <td>2011-01-01</td>\n      <td>1</td>\n      <td>0</td>\n      <td>1</td>\n      <td>1</td>\n      <td>0</td>\n      <td>6</td>\n      <td>0</td>\n      <td>1</td>\n      <td>0.22</td>\n      <td>0.2727</td>\n      <td>0.80</td>\n      <td>0.0000</td>\n      <td>8</td>\n      <td>32</td>\n      <td>40</td>\n    </tr>\n    <tr>\n      <th>2</th>\n      <td>3</td>\n      <td>2011-01-01</td>\n      <td>1</td>\n      <td>0</td>\n      <td>1</td>\n      <td>2</td>\n      <td>0</td>\n      <td>6</td>\n      <td>0</td>\n      <td>1</td>\n      <td>0.22</td>\n      <td>0.2727</td>\n      <td>0.80</td>\n      <td>0.0000</td>\n      <td>5</td>\n      <td>27</td>\n      <td>32</td>\n    </tr>\n    <tr>\n      <th>3</th>\n      <td>4</td>\n      <td>2011-01-01</td>\n      <td>1</td>\n      <td>0</td>\n      <td>1</td>\n      <td>3</td>\n      <td>0</td>\n      <td>6</td>\n      <td>0</td>\n      <td>1</td>\n      <td>0.24</td>\n      <td>0.2879</td>\n      <td>0.75</td>\n      <td>0.0000</td>\n      <td>3</td>\n      <td>10</td>\n      <td>13</td>\n    </tr>\n    <tr>\n      <th>4</th>\n      <td>5</td>\n      <td>2011-01-01</td>\n      <td>1</td>\n      <td>0</td>\n      <td>1</td>\n      <td>4</td>\n      <td>0</td>\n      <td>6</td>\n      <td>0</td>\n      <td>1</td>\n      <td>0.24</td>\n      <td>0.2879</td>\n      <td>0.75</td>\n      <td>0.0000</td>\n      <td>0</td>\n      <td>1</td>\n      <td>1</td>\n    </tr>\n    <tr>\n      <th>...</th>\n      <td>...</td>\n      <td>...</td>\n      <td>...</td>\n      <td>...</td>\n      <td>...</td>\n      <td>...</td>\n      <td>...</td>\n      <td>...</td>\n      <td>...</td>\n      <td>...</td>\n      <td>...</td>\n      <td>...</td>\n      <td>...</td>\n      <td>...</td>\n      <td>...</td>\n      <td>...</td>\n      <td>...</td>\n    </tr>\n    <tr>\n      <th>17374</th>\n      <td>17375</td>\n      <td>2012-12-31</td>\n      <td>1</td>\n      <td>1</td>\n      <td>12</td>\n      <td>19</td>\n      <td>0</td>\n      <td>1</td>\n      <td>1</td>\n      <td>2</td>\n      <td>0.26</td>\n      <td>0.2576</td>\n      <td>0.60</td>\n      <td>0.1642</td>\n      <td>11</td>\n      <td>108</td>\n      <td>119</td>\n    </tr>\n    <tr>\n      <th>17375</th>\n      <td>17376</td>\n      <td>2012-12-31</td>\n      <td>1</td>\n      <td>1</td>\n      <td>12</td>\n      <td>20</td>\n      <td>0</td>\n      <td>1</td>\n      <td>1</td>\n      <td>2</td>\n      <td>0.26</td>\n      <td>0.2576</td>\n      <td>0.60</td>\n      <td>0.1642</td>\n      <td>8</td>\n      <td>81</td>\n      <td>89</td>\n    </tr>\n    <tr>\n      <th>17376</th>\n      <td>17377</td>\n      <td>2012-12-31</td>\n      <td>1</td>\n      <td>1</td>\n      <td>12</td>\n      <td>21</td>\n      <td>0</td>\n      <td>1</td>\n      <td>1</td>\n      <td>1</td>\n      <td>0.26</td>\n      <td>0.2576</td>\n      <td>0.60</td>\n      <td>0.1642</td>\n      <td>7</td>\n      <td>83</td>\n      <td>90</td>\n    </tr>\n    <tr>\n      <th>17377</th>\n      <td>17378</td>\n      <td>2012-12-31</td>\n      <td>1</td>\n      <td>1</td>\n      <td>12</td>\n      <td>22</td>\n      <td>0</td>\n      <td>1</td>\n      <td>1</td>\n      <td>1</td>\n      <td>0.26</td>\n      <td>0.2727</td>\n      <td>0.56</td>\n      <td>0.1343</td>\n      <td>13</td>\n      <td>48</td>\n      <td>61</td>\n    </tr>\n    <tr>\n      <th>17378</th>\n      <td>17379</td>\n      <td>2012-12-31</td>\n      <td>1</td>\n      <td>1</td>\n      <td>12</td>\n      <td>23</td>\n      <td>0</td>\n      <td>1</td>\n      <td>1</td>\n      <td>1</td>\n      <td>0.26</td>\n      <td>0.2727</td>\n      <td>0.65</td>\n      <td>0.1343</td>\n      <td>12</td>\n      <td>37</td>\n      <td>49</td>\n    </tr>\n  </tbody>\n</table>\n<p>17379 rows × 17 columns</p>\n</div>"
     },
     "metadata": {},
     "execution_count": 90
    }
   ],
   "source": [
    "hour_df = pd.read_csv(\"./hour.csv\")\n",
    "hour_df"
   ]
  },
  {
   "cell_type": "code",
   "execution_count": 91,
   "metadata": {},
   "outputs": [
    {
     "output_type": "execute_result",
     "data": {
      "text/plain": [
       "     instant      dteday  season  yr  mnth  holiday  weekday  workingday  \\\n",
       "16        17  2011-01-17       1   0     1        1        1           0   \n",
       "51        52  2011-02-21       1   0     2        1        1           0   \n",
       "104      105  2011-04-15       2   0     4        1        5           0   \n",
       "149      150  2011-05-30       2   0     5        1        1           0   \n",
       "184      185  2011-07-04       3   0     7        1        1           0   \n",
       "247      248  2011-09-05       3   0     9        1        1           0   \n",
       "282      283  2011-10-10       4   0    10        1        1           0   \n",
       "314      315  2011-11-11       4   0    11        1        5           0   \n",
       "327      328  2011-11-24       4   0    11        1        4           0   \n",
       "359      360  2011-12-26       1   0    12        1        1           0   \n",
       "366      367  2012-01-02       1   1     1        1        1           0   \n",
       "380      381  2012-01-16       1   1     1        1        1           0   \n",
       "415      416  2012-02-20       1   1     2        1        1           0   \n",
       "471      472  2012-04-16       2   1     4        1        1           0   \n",
       "513      514  2012-05-28       2   1     5        1        1           0   \n",
       "550      551  2012-07-04       3   1     7        1        3           0   \n",
       "611      612  2012-09-03       3   1     9        1        1           0   \n",
       "646      647  2012-10-08       4   1    10        1        1           0   \n",
       "681      682  2012-11-12       4   1    11        1        1           0   \n",
       "691      692  2012-11-22       4   1    11        1        4           0   \n",
       "724      725  2012-12-25       1   1    12        1        2           0   \n",
       "\n",
       "     weathersit      temp     atemp       hum  windspeed  casual  registered  \\\n",
       "16            2  0.175833  0.176771  0.537500   0.194017     117         883   \n",
       "51            2  0.303333  0.284075  0.605000   0.307846     195         912   \n",
       "104           1  0.446667  0.441913  0.671250   0.226375     642        2484   \n",
       "149           1  0.733333  0.671092  0.685000   0.131225    1549        2549   \n",
       "184           2  0.726667  0.665417  0.637917   0.081479    3065        2978   \n",
       "247           2  0.673333  0.625646  0.790417   0.212696    1236        2115   \n",
       "282           1  0.570833  0.542925  0.733750   0.042304    1514        3603   \n",
       "314           1  0.324167  0.306817  0.446250   0.314675     440        2928   \n",
       "327           1  0.373333  0.372471  0.549167   0.167304     560         935   \n",
       "359           1  0.321739  0.315535  0.506957   0.239465     430         887   \n",
       "366           1  0.273043  0.252304  0.381304   0.329665     244        1707   \n",
       "380           1  0.190000  0.190663  0.522500   0.231358     217        2081   \n",
       "415           1  0.280000  0.273391  0.507826   0.229083     502        2627   \n",
       "471           1  0.664167  0.614925  0.561667   0.284829    1198        5172   \n",
       "513           1  0.712500  0.679300  0.676250   0.196521    2557        3486   \n",
       "550           1  0.789167  0.732337  0.538750   0.134950    2562        4841   \n",
       "611           1  0.707500  0.661629  0.790833   0.151121    1965        4069   \n",
       "646           2  0.383333  0.387608  0.709583   0.189679     874        4604   \n",
       "681           1  0.485000  0.475383  0.741667   0.173517    1097        5172   \n",
       "691           1  0.340000  0.350371  0.580417   0.052871     955        1470   \n",
       "724           2  0.291304  0.294465  0.734783   0.168726     440         573   \n",
       "\n",
       "      cnt  \n",
       "16   1000  \n",
       "51   1107  \n",
       "104  3126  \n",
       "149  4098  \n",
       "184  6043  \n",
       "247  3351  \n",
       "282  5117  \n",
       "314  3368  \n",
       "327  1495  \n",
       "359  1317  \n",
       "366  1951  \n",
       "380  2298  \n",
       "415  3129  \n",
       "471  6370  \n",
       "513  6043  \n",
       "550  7403  \n",
       "611  6034  \n",
       "646  5478  \n",
       "681  6269  \n",
       "691  2425  \n",
       "724  1013  "
      ],
      "text/html": "<div>\n<style scoped>\n    .dataframe tbody tr th:only-of-type {\n        vertical-align: middle;\n    }\n\n    .dataframe tbody tr th {\n        vertical-align: top;\n    }\n\n    .dataframe thead th {\n        text-align: right;\n    }\n</style>\n<table border=\"1\" class=\"dataframe\">\n  <thead>\n    <tr style=\"text-align: right;\">\n      <th></th>\n      <th>instant</th>\n      <th>dteday</th>\n      <th>season</th>\n      <th>yr</th>\n      <th>mnth</th>\n      <th>holiday</th>\n      <th>weekday</th>\n      <th>workingday</th>\n      <th>weathersit</th>\n      <th>temp</th>\n      <th>atemp</th>\n      <th>hum</th>\n      <th>windspeed</th>\n      <th>casual</th>\n      <th>registered</th>\n      <th>cnt</th>\n    </tr>\n  </thead>\n  <tbody>\n    <tr>\n      <th>16</th>\n      <td>17</td>\n      <td>2011-01-17</td>\n      <td>1</td>\n      <td>0</td>\n      <td>1</td>\n      <td>1</td>\n      <td>1</td>\n      <td>0</td>\n      <td>2</td>\n      <td>0.175833</td>\n      <td>0.176771</td>\n      <td>0.537500</td>\n      <td>0.194017</td>\n      <td>117</td>\n      <td>883</td>\n      <td>1000</td>\n    </tr>\n    <tr>\n      <th>51</th>\n      <td>52</td>\n      <td>2011-02-21</td>\n      <td>1</td>\n      <td>0</td>\n      <td>2</td>\n      <td>1</td>\n      <td>1</td>\n      <td>0</td>\n      <td>2</td>\n      <td>0.303333</td>\n      <td>0.284075</td>\n      <td>0.605000</td>\n      <td>0.307846</td>\n      <td>195</td>\n      <td>912</td>\n      <td>1107</td>\n    </tr>\n    <tr>\n      <th>104</th>\n      <td>105</td>\n      <td>2011-04-15</td>\n      <td>2</td>\n      <td>0</td>\n      <td>4</td>\n      <td>1</td>\n      <td>5</td>\n      <td>0</td>\n      <td>1</td>\n      <td>0.446667</td>\n      <td>0.441913</td>\n      <td>0.671250</td>\n      <td>0.226375</td>\n      <td>642</td>\n      <td>2484</td>\n      <td>3126</td>\n    </tr>\n    <tr>\n      <th>149</th>\n      <td>150</td>\n      <td>2011-05-30</td>\n      <td>2</td>\n      <td>0</td>\n      <td>5</td>\n      <td>1</td>\n      <td>1</td>\n      <td>0</td>\n      <td>1</td>\n      <td>0.733333</td>\n      <td>0.671092</td>\n      <td>0.685000</td>\n      <td>0.131225</td>\n      <td>1549</td>\n      <td>2549</td>\n      <td>4098</td>\n    </tr>\n    <tr>\n      <th>184</th>\n      <td>185</td>\n      <td>2011-07-04</td>\n      <td>3</td>\n      <td>0</td>\n      <td>7</td>\n      <td>1</td>\n      <td>1</td>\n      <td>0</td>\n      <td>2</td>\n      <td>0.726667</td>\n      <td>0.665417</td>\n      <td>0.637917</td>\n      <td>0.081479</td>\n      <td>3065</td>\n      <td>2978</td>\n      <td>6043</td>\n    </tr>\n    <tr>\n      <th>247</th>\n      <td>248</td>\n      <td>2011-09-05</td>\n      <td>3</td>\n      <td>0</td>\n      <td>9</td>\n      <td>1</td>\n      <td>1</td>\n      <td>0</td>\n      <td>2</td>\n      <td>0.673333</td>\n      <td>0.625646</td>\n      <td>0.790417</td>\n      <td>0.212696</td>\n      <td>1236</td>\n      <td>2115</td>\n      <td>3351</td>\n    </tr>\n    <tr>\n      <th>282</th>\n      <td>283</td>\n      <td>2011-10-10</td>\n      <td>4</td>\n      <td>0</td>\n      <td>10</td>\n      <td>1</td>\n      <td>1</td>\n      <td>0</td>\n      <td>1</td>\n      <td>0.570833</td>\n      <td>0.542925</td>\n      <td>0.733750</td>\n      <td>0.042304</td>\n      <td>1514</td>\n      <td>3603</td>\n      <td>5117</td>\n    </tr>\n    <tr>\n      <th>314</th>\n      <td>315</td>\n      <td>2011-11-11</td>\n      <td>4</td>\n      <td>0</td>\n      <td>11</td>\n      <td>1</td>\n      <td>5</td>\n      <td>0</td>\n      <td>1</td>\n      <td>0.324167</td>\n      <td>0.306817</td>\n      <td>0.446250</td>\n      <td>0.314675</td>\n      <td>440</td>\n      <td>2928</td>\n      <td>3368</td>\n    </tr>\n    <tr>\n      <th>327</th>\n      <td>328</td>\n      <td>2011-11-24</td>\n      <td>4</td>\n      <td>0</td>\n      <td>11</td>\n      <td>1</td>\n      <td>4</td>\n      <td>0</td>\n      <td>1</td>\n      <td>0.373333</td>\n      <td>0.372471</td>\n      <td>0.549167</td>\n      <td>0.167304</td>\n      <td>560</td>\n      <td>935</td>\n      <td>1495</td>\n    </tr>\n    <tr>\n      <th>359</th>\n      <td>360</td>\n      <td>2011-12-26</td>\n      <td>1</td>\n      <td>0</td>\n      <td>12</td>\n      <td>1</td>\n      <td>1</td>\n      <td>0</td>\n      <td>1</td>\n      <td>0.321739</td>\n      <td>0.315535</td>\n      <td>0.506957</td>\n      <td>0.239465</td>\n      <td>430</td>\n      <td>887</td>\n      <td>1317</td>\n    </tr>\n    <tr>\n      <th>366</th>\n      <td>367</td>\n      <td>2012-01-02</td>\n      <td>1</td>\n      <td>1</td>\n      <td>1</td>\n      <td>1</td>\n      <td>1</td>\n      <td>0</td>\n      <td>1</td>\n      <td>0.273043</td>\n      <td>0.252304</td>\n      <td>0.381304</td>\n      <td>0.329665</td>\n      <td>244</td>\n      <td>1707</td>\n      <td>1951</td>\n    </tr>\n    <tr>\n      <th>380</th>\n      <td>381</td>\n      <td>2012-01-16</td>\n      <td>1</td>\n      <td>1</td>\n      <td>1</td>\n      <td>1</td>\n      <td>1</td>\n      <td>0</td>\n      <td>1</td>\n      <td>0.190000</td>\n      <td>0.190663</td>\n      <td>0.522500</td>\n      <td>0.231358</td>\n      <td>217</td>\n      <td>2081</td>\n      <td>2298</td>\n    </tr>\n    <tr>\n      <th>415</th>\n      <td>416</td>\n      <td>2012-02-20</td>\n      <td>1</td>\n      <td>1</td>\n      <td>2</td>\n      <td>1</td>\n      <td>1</td>\n      <td>0</td>\n      <td>1</td>\n      <td>0.280000</td>\n      <td>0.273391</td>\n      <td>0.507826</td>\n      <td>0.229083</td>\n      <td>502</td>\n      <td>2627</td>\n      <td>3129</td>\n    </tr>\n    <tr>\n      <th>471</th>\n      <td>472</td>\n      <td>2012-04-16</td>\n      <td>2</td>\n      <td>1</td>\n      <td>4</td>\n      <td>1</td>\n      <td>1</td>\n      <td>0</td>\n      <td>1</td>\n      <td>0.664167</td>\n      <td>0.614925</td>\n      <td>0.561667</td>\n      <td>0.284829</td>\n      <td>1198</td>\n      <td>5172</td>\n      <td>6370</td>\n    </tr>\n    <tr>\n      <th>513</th>\n      <td>514</td>\n      <td>2012-05-28</td>\n      <td>2</td>\n      <td>1</td>\n      <td>5</td>\n      <td>1</td>\n      <td>1</td>\n      <td>0</td>\n      <td>1</td>\n      <td>0.712500</td>\n      <td>0.679300</td>\n      <td>0.676250</td>\n      <td>0.196521</td>\n      <td>2557</td>\n      <td>3486</td>\n      <td>6043</td>\n    </tr>\n    <tr>\n      <th>550</th>\n      <td>551</td>\n      <td>2012-07-04</td>\n      <td>3</td>\n      <td>1</td>\n      <td>7</td>\n      <td>1</td>\n      <td>3</td>\n      <td>0</td>\n      <td>1</td>\n      <td>0.789167</td>\n      <td>0.732337</td>\n      <td>0.538750</td>\n      <td>0.134950</td>\n      <td>2562</td>\n      <td>4841</td>\n      <td>7403</td>\n    </tr>\n    <tr>\n      <th>611</th>\n      <td>612</td>\n      <td>2012-09-03</td>\n      <td>3</td>\n      <td>1</td>\n      <td>9</td>\n      <td>1</td>\n      <td>1</td>\n      <td>0</td>\n      <td>1</td>\n      <td>0.707500</td>\n      <td>0.661629</td>\n      <td>0.790833</td>\n      <td>0.151121</td>\n      <td>1965</td>\n      <td>4069</td>\n      <td>6034</td>\n    </tr>\n    <tr>\n      <th>646</th>\n      <td>647</td>\n      <td>2012-10-08</td>\n      <td>4</td>\n      <td>1</td>\n      <td>10</td>\n      <td>1</td>\n      <td>1</td>\n      <td>0</td>\n      <td>2</td>\n      <td>0.383333</td>\n      <td>0.387608</td>\n      <td>0.709583</td>\n      <td>0.189679</td>\n      <td>874</td>\n      <td>4604</td>\n      <td>5478</td>\n    </tr>\n    <tr>\n      <th>681</th>\n      <td>682</td>\n      <td>2012-11-12</td>\n      <td>4</td>\n      <td>1</td>\n      <td>11</td>\n      <td>1</td>\n      <td>1</td>\n      <td>0</td>\n      <td>1</td>\n      <td>0.485000</td>\n      <td>0.475383</td>\n      <td>0.741667</td>\n      <td>0.173517</td>\n      <td>1097</td>\n      <td>5172</td>\n      <td>6269</td>\n    </tr>\n    <tr>\n      <th>691</th>\n      <td>692</td>\n      <td>2012-11-22</td>\n      <td>4</td>\n      <td>1</td>\n      <td>11</td>\n      <td>1</td>\n      <td>4</td>\n      <td>0</td>\n      <td>1</td>\n      <td>0.340000</td>\n      <td>0.350371</td>\n      <td>0.580417</td>\n      <td>0.052871</td>\n      <td>955</td>\n      <td>1470</td>\n      <td>2425</td>\n    </tr>\n    <tr>\n      <th>724</th>\n      <td>725</td>\n      <td>2012-12-25</td>\n      <td>1</td>\n      <td>1</td>\n      <td>12</td>\n      <td>1</td>\n      <td>2</td>\n      <td>0</td>\n      <td>2</td>\n      <td>0.291304</td>\n      <td>0.294465</td>\n      <td>0.734783</td>\n      <td>0.168726</td>\n      <td>440</td>\n      <td>573</td>\n      <td>1013</td>\n    </tr>\n  </tbody>\n</table>\n</div>"
     },
     "metadata": {},
     "execution_count": 91
    }
   ],
   "source": [
    "day_df = pd.read_csv(\"./day.csv\")\n",
    "day_df[day_df[\"holiday\"] == 1]"
   ]
  },
  {
   "cell_type": "code",
   "execution_count": 92,
   "metadata": {},
   "outputs": [
    {
     "output_type": "stream",
     "name": "stdout",
     "text": [
      "<class 'pandas.core.frame.DataFrame'>\nRangeIndex: 17379 entries, 0 to 17378\nData columns (total 17 columns):\n #   Column      Non-Null Count  Dtype  \n---  ------      --------------  -----  \n 0   instant     17379 non-null  int64  \n 1   dteday      17379 non-null  object \n 2   season      17379 non-null  int64  \n 3   yr          17379 non-null  int64  \n 4   mnth        17379 non-null  int64  \n 5   hr          17379 non-null  int64  \n 6   holiday     17379 non-null  int64  \n 7   weekday     17379 non-null  int64  \n 8   workingday  17379 non-null  int64  \n 9   weathersit  17379 non-null  int64  \n 10  temp        17379 non-null  float64\n 11  atemp       17379 non-null  float64\n 12  hum         17379 non-null  float64\n 13  windspeed   17379 non-null  float64\n 14  casual      17379 non-null  int64  \n 15  registered  17379 non-null  int64  \n 16  cnt         17379 non-null  int64  \ndtypes: float64(4), int64(12), object(1)\nmemory usage: 2.3+ MB\n<class 'pandas.core.frame.DataFrame'>\nRangeIndex: 731 entries, 0 to 730\nData columns (total 16 columns):\n #   Column      Non-Null Count  Dtype  \n---  ------      --------------  -----  \n 0   instant     731 non-null    int64  \n 1   dteday      731 non-null    object \n 2   season      731 non-null    int64  \n 3   yr          731 non-null    int64  \n 4   mnth        731 non-null    int64  \n 5   holiday     731 non-null    int64  \n 6   weekday     731 non-null    int64  \n 7   workingday  731 non-null    int64  \n 8   weathersit  731 non-null    int64  \n 9   temp        731 non-null    float64\n 10  atemp       731 non-null    float64\n 11  hum         731 non-null    float64\n 12  windspeed   731 non-null    float64\n 13  casual      731 non-null    int64  \n 14  registered  731 non-null    int64  \n 15  cnt         731 non-null    int64  \ndtypes: float64(4), int64(11), object(1)\nmemory usage: 91.5+ KB\n"
     ]
    },
    {
     "output_type": "execute_result",
     "data": {
      "text/plain": [
       "False"
      ]
     },
     "metadata": {},
     "execution_count": 92
    }
   ],
   "source": [
    "# CHECKING FOR MISSING VALUES\n",
    "hour_df.info()\n",
    "day_df.info()\n",
    "hour_df.isna().any().any()\n",
    "hour_df.notna().any().any()\n",
    "hour_df.isnull().any().any()\n",
    "day_df.isna().any().any()\n",
    "day_df.notna().any().any()\n",
    "day_df.isnull().any().any()"
   ]
  },
  {
   "cell_type": "code",
   "execution_count": 93,
   "metadata": {},
   "outputs": [
    {
     "output_type": "execute_result",
     "data": {
      "text/plain": [
       "     instant     dteday  season  year  month holiday    weekday workingday  \\\n",
       "0          1 2011-01-01  spring  2011      1      no     sunday         no   \n",
       "1          2 2011-01-02  spring  2011      1      no     monday         no   \n",
       "2          3 2011-01-03  spring  2011      1      no    tuesday        yes   \n",
       "3          4 2011-01-04  spring  2011      1      no  wednesday        yes   \n",
       "4          5 2011-01-05  spring  2011      1      no   thursday        yes   \n",
       "..       ...        ...     ...   ...    ...     ...        ...        ...   \n",
       "726      727 2012-12-27  spring  2012     12      no     friday        yes   \n",
       "727      728 2012-12-28  spring  2012     12      no   saturday        yes   \n",
       "728      729 2012-12-29  spring  2012     12      no     sunday         no   \n",
       "729      730 2012-12-30  spring  2012     12      no     monday         no   \n",
       "730      731 2012-12-31  spring  2012     12      no    tuesday        yes   \n",
       "\n",
       "     weathersit      temp     atemp       hum  windspeed  casual  registered  \\\n",
       "0             2  0.344167  0.363625  0.805833   0.160446     331         654   \n",
       "1             2  0.363478  0.353739  0.696087   0.248539     131         670   \n",
       "2             1  0.196364  0.189405  0.437273   0.248309     120        1229   \n",
       "3             1  0.200000  0.212122  0.590435   0.160296     108        1454   \n",
       "4             1  0.226957  0.229270  0.436957   0.186900      82        1518   \n",
       "..          ...       ...       ...       ...        ...     ...         ...   \n",
       "726           2  0.254167  0.226642  0.652917   0.350133     247        1867   \n",
       "727           2  0.253333  0.255046  0.590000   0.155471     644        2451   \n",
       "728           2  0.253333  0.242400  0.752917   0.124383     159        1182   \n",
       "729           1  0.255833  0.231700  0.483333   0.350754     364        1432   \n",
       "730           2  0.215833  0.223487  0.577500   0.154846     439        2290   \n",
       "\n",
       "      cnt  \n",
       "0     985  \n",
       "1     801  \n",
       "2    1349  \n",
       "3    1562  \n",
       "4    1600  \n",
       "..    ...  \n",
       "726  2114  \n",
       "727  3095  \n",
       "728  1341  \n",
       "729  1796  \n",
       "730  2729  \n",
       "\n",
       "[731 rows x 16 columns]"
      ],
      "text/html": "<div>\n<style scoped>\n    .dataframe tbody tr th:only-of-type {\n        vertical-align: middle;\n    }\n\n    .dataframe tbody tr th {\n        vertical-align: top;\n    }\n\n    .dataframe thead th {\n        text-align: right;\n    }\n</style>\n<table border=\"1\" class=\"dataframe\">\n  <thead>\n    <tr style=\"text-align: right;\">\n      <th></th>\n      <th>instant</th>\n      <th>dteday</th>\n      <th>season</th>\n      <th>year</th>\n      <th>month</th>\n      <th>holiday</th>\n      <th>weekday</th>\n      <th>workingday</th>\n      <th>weathersit</th>\n      <th>temp</th>\n      <th>atemp</th>\n      <th>hum</th>\n      <th>windspeed</th>\n      <th>casual</th>\n      <th>registered</th>\n      <th>cnt</th>\n    </tr>\n  </thead>\n  <tbody>\n    <tr>\n      <th>0</th>\n      <td>1</td>\n      <td>2011-01-01</td>\n      <td>spring</td>\n      <td>2011</td>\n      <td>1</td>\n      <td>no</td>\n      <td>sunday</td>\n      <td>no</td>\n      <td>2</td>\n      <td>0.344167</td>\n      <td>0.363625</td>\n      <td>0.805833</td>\n      <td>0.160446</td>\n      <td>331</td>\n      <td>654</td>\n      <td>985</td>\n    </tr>\n    <tr>\n      <th>1</th>\n      <td>2</td>\n      <td>2011-01-02</td>\n      <td>spring</td>\n      <td>2011</td>\n      <td>1</td>\n      <td>no</td>\n      <td>monday</td>\n      <td>no</td>\n      <td>2</td>\n      <td>0.363478</td>\n      <td>0.353739</td>\n      <td>0.696087</td>\n      <td>0.248539</td>\n      <td>131</td>\n      <td>670</td>\n      <td>801</td>\n    </tr>\n    <tr>\n      <th>2</th>\n      <td>3</td>\n      <td>2011-01-03</td>\n      <td>spring</td>\n      <td>2011</td>\n      <td>1</td>\n      <td>no</td>\n      <td>tuesday</td>\n      <td>yes</td>\n      <td>1</td>\n      <td>0.196364</td>\n      <td>0.189405</td>\n      <td>0.437273</td>\n      <td>0.248309</td>\n      <td>120</td>\n      <td>1229</td>\n      <td>1349</td>\n    </tr>\n    <tr>\n      <th>3</th>\n      <td>4</td>\n      <td>2011-01-04</td>\n      <td>spring</td>\n      <td>2011</td>\n      <td>1</td>\n      <td>no</td>\n      <td>wednesday</td>\n      <td>yes</td>\n      <td>1</td>\n      <td>0.200000</td>\n      <td>0.212122</td>\n      <td>0.590435</td>\n      <td>0.160296</td>\n      <td>108</td>\n      <td>1454</td>\n      <td>1562</td>\n    </tr>\n    <tr>\n      <th>4</th>\n      <td>5</td>\n      <td>2011-01-05</td>\n      <td>spring</td>\n      <td>2011</td>\n      <td>1</td>\n      <td>no</td>\n      <td>thursday</td>\n      <td>yes</td>\n      <td>1</td>\n      <td>0.226957</td>\n      <td>0.229270</td>\n      <td>0.436957</td>\n      <td>0.186900</td>\n      <td>82</td>\n      <td>1518</td>\n      <td>1600</td>\n    </tr>\n    <tr>\n      <th>...</th>\n      <td>...</td>\n      <td>...</td>\n      <td>...</td>\n      <td>...</td>\n      <td>...</td>\n      <td>...</td>\n      <td>...</td>\n      <td>...</td>\n      <td>...</td>\n      <td>...</td>\n      <td>...</td>\n      <td>...</td>\n      <td>...</td>\n      <td>...</td>\n      <td>...</td>\n      <td>...</td>\n    </tr>\n    <tr>\n      <th>726</th>\n      <td>727</td>\n      <td>2012-12-27</td>\n      <td>spring</td>\n      <td>2012</td>\n      <td>12</td>\n      <td>no</td>\n      <td>friday</td>\n      <td>yes</td>\n      <td>2</td>\n      <td>0.254167</td>\n      <td>0.226642</td>\n      <td>0.652917</td>\n      <td>0.350133</td>\n      <td>247</td>\n      <td>1867</td>\n      <td>2114</td>\n    </tr>\n    <tr>\n      <th>727</th>\n      <td>728</td>\n      <td>2012-12-28</td>\n      <td>spring</td>\n      <td>2012</td>\n      <td>12</td>\n      <td>no</td>\n      <td>saturday</td>\n      <td>yes</td>\n      <td>2</td>\n      <td>0.253333</td>\n      <td>0.255046</td>\n      <td>0.590000</td>\n      <td>0.155471</td>\n      <td>644</td>\n      <td>2451</td>\n      <td>3095</td>\n    </tr>\n    <tr>\n      <th>728</th>\n      <td>729</td>\n      <td>2012-12-29</td>\n      <td>spring</td>\n      <td>2012</td>\n      <td>12</td>\n      <td>no</td>\n      <td>sunday</td>\n      <td>no</td>\n      <td>2</td>\n      <td>0.253333</td>\n      <td>0.242400</td>\n      <td>0.752917</td>\n      <td>0.124383</td>\n      <td>159</td>\n      <td>1182</td>\n      <td>1341</td>\n    </tr>\n    <tr>\n      <th>729</th>\n      <td>730</td>\n      <td>2012-12-30</td>\n      <td>spring</td>\n      <td>2012</td>\n      <td>12</td>\n      <td>no</td>\n      <td>monday</td>\n      <td>no</td>\n      <td>1</td>\n      <td>0.255833</td>\n      <td>0.231700</td>\n      <td>0.483333</td>\n      <td>0.350754</td>\n      <td>364</td>\n      <td>1432</td>\n      <td>1796</td>\n    </tr>\n    <tr>\n      <th>730</th>\n      <td>731</td>\n      <td>2012-12-31</td>\n      <td>spring</td>\n      <td>2012</td>\n      <td>12</td>\n      <td>no</td>\n      <td>tuesday</td>\n      <td>yes</td>\n      <td>2</td>\n      <td>0.215833</td>\n      <td>0.223487</td>\n      <td>0.577500</td>\n      <td>0.154846</td>\n      <td>439</td>\n      <td>2290</td>\n      <td>2729</td>\n    </tr>\n  </tbody>\n</table>\n<p>731 rows × 16 columns</p>\n</div>"
     },
     "metadata": {},
     "execution_count": 93
    }
   ],
   "source": [
    "# DATA TYPES CONVERSION AND COLUMN RENAMING\n",
    "hour_df[\"dteday\"] = pd.to_datetime(hour_df[\"dteday\"])\n",
    "day_df[\"dteday\"] = pd.to_datetime(day_df[\"dteday\"])\n",
    "\n",
    "hour_df.loc[hour_df[\"season\"] == 1, \"season\"] = \"spring\"\n",
    "hour_df.loc[hour_df[\"season\"] == 2, \"season\"] = \"summer\"\n",
    "hour_df.loc[hour_df[\"season\"] == 3, \"season\"] = \"fall\"\n",
    "hour_df.loc[hour_df[\"season\"] == 4, \"season\"] = \"winter\"\n",
    "day_df.loc[day_df[\"season\"] == 1, \"season\"] = \"spring\"\n",
    "day_df.loc[day_df[\"season\"] == 2, \"season\"] = \"summer\"\n",
    "day_df.loc[day_df[\"season\"] == 3, \"season\"] = \"fall\"\n",
    "day_df.loc[day_df[\"season\"] == 4, \"season\"] = \"winter\"\n",
    "\n",
    "hour_df.loc[hour_df[\"yr\"] == 0, \"yr\"] = 2011\n",
    "hour_df.loc[hour_df[\"yr\"] == 1, \"yr\"] = 2012\n",
    "day_df.loc[day_df[\"yr\"] == 0, \"yr\"] = 2011\n",
    "day_df.loc[day_df[\"yr\"] == 1, \"yr\"] = 2012\n",
    "\n",
    "hour_df.loc[hour_df[\"holiday\"] == 0, \"holiday\"] = \"no\"\n",
    "hour_df.loc[hour_df[\"holiday\"] == 1, \"holiday\"] = \"yes\"\n",
    "day_df.loc[day_df[\"holiday\"] == 0, \"holiday\"] = \"no\"\n",
    "day_df.loc[day_df[\"holiday\"] == 1, \"holiday\"] = \"yes\"\n",
    "\n",
    "hour_df.loc[hour_df[\"weekday\"] == 0, \"weekday\"] = \"monday\"\n",
    "hour_df.loc[hour_df[\"weekday\"] == 1, \"weekday\"] = \"tuesday\"\n",
    "hour_df.loc[hour_df[\"weekday\"] == 2, \"weekday\"] = \"wednesday\"\n",
    "hour_df.loc[hour_df[\"weekday\"] == 3, \"weekday\"] = \"thursday\"\n",
    "hour_df.loc[hour_df[\"weekday\"] == 4, \"weekday\"] = \"friday\"\n",
    "hour_df.loc[hour_df[\"weekday\"] == 5, \"weekday\"] = \"saturday\"\n",
    "hour_df.loc[hour_df[\"weekday\"] == 6, \"weekday\"] = \"sunday\"\n",
    "day_df.loc[day_df[\"weekday\"] == 0, \"weekday\"] = \"monday\"\n",
    "day_df.loc[day_df[\"weekday\"] == 1, \"weekday\"] = \"tuesday\"\n",
    "day_df.loc[day_df[\"weekday\"] == 2, \"weekday\"] = \"wednesday\"\n",
    "day_df.loc[day_df[\"weekday\"] == 3, \"weekday\"] = \"thursday\"\n",
    "day_df.loc[day_df[\"weekday\"] == 4, \"weekday\"] = \"friday\"\n",
    "day_df.loc[day_df[\"weekday\"] == 5, \"weekday\"] = \"saturday\"\n",
    "day_df.loc[day_df[\"weekday\"] == 6, \"weekday\"] = \"sunday\"\n",
    "\n",
    "hour_df.loc[hour_df[\"workingday\"] == 0, \"workingday\"] = \"no\"\n",
    "hour_df.loc[hour_df[\"workingday\"] == 1, \"workingday\"] = \"yes\"\n",
    "day_df.loc[day_df[\"workingday\"] == 0, \"workingday\"] = \"no\"\n",
    "day_df.loc[day_df[\"workingday\"] == 1, \"workingday\"] = \"yes\"\n",
    "\n",
    "hour_df.rename(columns={\"yr\": \"year\", \"mnth\": \"month\"})\n",
    "day_df.rename(columns={\"yr\": \"year\", \"mnth\": \"month\"})"
   ]
  },
  {
   "cell_type": "code",
   "execution_count": 104,
   "metadata": {},
   "outputs": [
    {
     "output_type": "execute_result",
     "data": {
      "text/plain": [
       "     instant     dteday  season    yr  mnth holiday    weekday workingday  \\\n",
       "0          1 2011-01-01  spring  2011     1      no     sunday         no   \n",
       "1          2 2011-01-02  spring  2011     1      no     monday         no   \n",
       "2          3 2011-01-03  spring  2011     1      no    tuesday        yes   \n",
       "3          4 2011-01-04  spring  2011     1      no  wednesday        yes   \n",
       "4          5 2011-01-05  spring  2011     1      no   thursday        yes   \n",
       "..       ...        ...     ...   ...   ...     ...        ...        ...   \n",
       "726      727 2012-12-27  spring  2012    12      no     friday        yes   \n",
       "727      728 2012-12-28  spring  2012    12      no   saturday        yes   \n",
       "728      729 2012-12-29  spring  2012    12      no     sunday         no   \n",
       "729      730 2012-12-30  spring  2012    12      no     monday         no   \n",
       "730      731 2012-12-31  spring  2012    12      no    tuesday        yes   \n",
       "\n",
       "     weathersit     temp    atemp      hum  windspeed  casual  registered  \\\n",
       "0             2  34.4167  36.3625  80.5833    16.0446     331         654   \n",
       "1             2  36.3478  35.3739  69.6087    24.8539     131         670   \n",
       "2             1  19.6364  18.9405  43.7273    24.8309     120        1229   \n",
       "3             1  20.0000  21.2122  59.0435    16.0296     108        1454   \n",
       "4             1  22.6957  22.9270  43.6957    18.6900      82        1518   \n",
       "..          ...      ...      ...      ...        ...     ...         ...   \n",
       "726           2  25.4167  22.6642  65.2917    35.0133     247        1867   \n",
       "727           2  25.3333  25.5046  59.0000    15.5471     644        2451   \n",
       "728           2  25.3333  24.2400  75.2917    12.4383     159        1182   \n",
       "729           1  25.5833  23.1700  48.3333    35.0754     364        1432   \n",
       "730           2  21.5833  22.3487  57.7500    15.4846     439        2290   \n",
       "\n",
       "      cnt warm_day  \n",
       "0     985      yes  \n",
       "1     801      yes  \n",
       "2    1349       no  \n",
       "3    1562       no  \n",
       "4    1600      yes  \n",
       "..    ...      ...  \n",
       "726  2114      yes  \n",
       "727  3095      yes  \n",
       "728  1341      yes  \n",
       "729  1796      yes  \n",
       "730  2729      yes  \n",
       "\n",
       "[731 rows x 17 columns]"
      ],
      "text/html": "<div>\n<style scoped>\n    .dataframe tbody tr th:only-of-type {\n        vertical-align: middle;\n    }\n\n    .dataframe tbody tr th {\n        vertical-align: top;\n    }\n\n    .dataframe thead th {\n        text-align: right;\n    }\n</style>\n<table border=\"1\" class=\"dataframe\">\n  <thead>\n    <tr style=\"text-align: right;\">\n      <th></th>\n      <th>instant</th>\n      <th>dteday</th>\n      <th>season</th>\n      <th>yr</th>\n      <th>mnth</th>\n      <th>holiday</th>\n      <th>weekday</th>\n      <th>workingday</th>\n      <th>weathersit</th>\n      <th>temp</th>\n      <th>atemp</th>\n      <th>hum</th>\n      <th>windspeed</th>\n      <th>casual</th>\n      <th>registered</th>\n      <th>cnt</th>\n      <th>warm_day</th>\n    </tr>\n  </thead>\n  <tbody>\n    <tr>\n      <th>0</th>\n      <td>1</td>\n      <td>2011-01-01</td>\n      <td>spring</td>\n      <td>2011</td>\n      <td>1</td>\n      <td>no</td>\n      <td>sunday</td>\n      <td>no</td>\n      <td>2</td>\n      <td>34.4167</td>\n      <td>36.3625</td>\n      <td>80.5833</td>\n      <td>16.0446</td>\n      <td>331</td>\n      <td>654</td>\n      <td>985</td>\n      <td>yes</td>\n    </tr>\n    <tr>\n      <th>1</th>\n      <td>2</td>\n      <td>2011-01-02</td>\n      <td>spring</td>\n      <td>2011</td>\n      <td>1</td>\n      <td>no</td>\n      <td>monday</td>\n      <td>no</td>\n      <td>2</td>\n      <td>36.3478</td>\n      <td>35.3739</td>\n      <td>69.6087</td>\n      <td>24.8539</td>\n      <td>131</td>\n      <td>670</td>\n      <td>801</td>\n      <td>yes</td>\n    </tr>\n    <tr>\n      <th>2</th>\n      <td>3</td>\n      <td>2011-01-03</td>\n      <td>spring</td>\n      <td>2011</td>\n      <td>1</td>\n      <td>no</td>\n      <td>tuesday</td>\n      <td>yes</td>\n      <td>1</td>\n      <td>19.6364</td>\n      <td>18.9405</td>\n      <td>43.7273</td>\n      <td>24.8309</td>\n      <td>120</td>\n      <td>1229</td>\n      <td>1349</td>\n      <td>no</td>\n    </tr>\n    <tr>\n      <th>3</th>\n      <td>4</td>\n      <td>2011-01-04</td>\n      <td>spring</td>\n      <td>2011</td>\n      <td>1</td>\n      <td>no</td>\n      <td>wednesday</td>\n      <td>yes</td>\n      <td>1</td>\n      <td>20.0000</td>\n      <td>21.2122</td>\n      <td>59.0435</td>\n      <td>16.0296</td>\n      <td>108</td>\n      <td>1454</td>\n      <td>1562</td>\n      <td>no</td>\n    </tr>\n    <tr>\n      <th>4</th>\n      <td>5</td>\n      <td>2011-01-05</td>\n      <td>spring</td>\n      <td>2011</td>\n      <td>1</td>\n      <td>no</td>\n      <td>thursday</td>\n      <td>yes</td>\n      <td>1</td>\n      <td>22.6957</td>\n      <td>22.9270</td>\n      <td>43.6957</td>\n      <td>18.6900</td>\n      <td>82</td>\n      <td>1518</td>\n      <td>1600</td>\n      <td>yes</td>\n    </tr>\n    <tr>\n      <th>...</th>\n      <td>...</td>\n      <td>...</td>\n      <td>...</td>\n      <td>...</td>\n      <td>...</td>\n      <td>...</td>\n      <td>...</td>\n      <td>...</td>\n      <td>...</td>\n      <td>...</td>\n      <td>...</td>\n      <td>...</td>\n      <td>...</td>\n      <td>...</td>\n      <td>...</td>\n      <td>...</td>\n      <td>...</td>\n    </tr>\n    <tr>\n      <th>726</th>\n      <td>727</td>\n      <td>2012-12-27</td>\n      <td>spring</td>\n      <td>2012</td>\n      <td>12</td>\n      <td>no</td>\n      <td>friday</td>\n      <td>yes</td>\n      <td>2</td>\n      <td>25.4167</td>\n      <td>22.6642</td>\n      <td>65.2917</td>\n      <td>35.0133</td>\n      <td>247</td>\n      <td>1867</td>\n      <td>2114</td>\n      <td>yes</td>\n    </tr>\n    <tr>\n      <th>727</th>\n      <td>728</td>\n      <td>2012-12-28</td>\n      <td>spring</td>\n      <td>2012</td>\n      <td>12</td>\n      <td>no</td>\n      <td>saturday</td>\n      <td>yes</td>\n      <td>2</td>\n      <td>25.3333</td>\n      <td>25.5046</td>\n      <td>59.0000</td>\n      <td>15.5471</td>\n      <td>644</td>\n      <td>2451</td>\n      <td>3095</td>\n      <td>yes</td>\n    </tr>\n    <tr>\n      <th>728</th>\n      <td>729</td>\n      <td>2012-12-29</td>\n      <td>spring</td>\n      <td>2012</td>\n      <td>12</td>\n      <td>no</td>\n      <td>sunday</td>\n      <td>no</td>\n      <td>2</td>\n      <td>25.3333</td>\n      <td>24.2400</td>\n      <td>75.2917</td>\n      <td>12.4383</td>\n      <td>159</td>\n      <td>1182</td>\n      <td>1341</td>\n      <td>yes</td>\n    </tr>\n    <tr>\n      <th>729</th>\n      <td>730</td>\n      <td>2012-12-30</td>\n      <td>spring</td>\n      <td>2012</td>\n      <td>12</td>\n      <td>no</td>\n      <td>monday</td>\n      <td>no</td>\n      <td>1</td>\n      <td>25.5833</td>\n      <td>23.1700</td>\n      <td>48.3333</td>\n      <td>35.0754</td>\n      <td>364</td>\n      <td>1432</td>\n      <td>1796</td>\n      <td>yes</td>\n    </tr>\n    <tr>\n      <th>730</th>\n      <td>731</td>\n      <td>2012-12-31</td>\n      <td>spring</td>\n      <td>2012</td>\n      <td>12</td>\n      <td>no</td>\n      <td>tuesday</td>\n      <td>yes</td>\n      <td>2</td>\n      <td>21.5833</td>\n      <td>22.3487</td>\n      <td>57.7500</td>\n      <td>15.4846</td>\n      <td>439</td>\n      <td>2290</td>\n      <td>2729</td>\n      <td>yes</td>\n    </tr>\n  </tbody>\n</table>\n<p>731 rows × 17 columns</p>\n</div>"
     },
     "metadata": {},
     "execution_count": 104
    }
   ],
   "source": [
    "# CREATING NEW FEATURES\n",
    "\n",
    "# grouping hours into morning, afternoon, evening and night\n",
    "hour_df[\"day_time\"] = hour_df[\"hr\"].apply(lambda value: \"night\"\n",
    "                                            if value <= 5 else \"morning\"\n",
    "                                            if value <= 12 else \"afternoon\"\n",
    "                                            if value <= 17 else \"evening\")\n",
    "hour_df['day_time'] = pd.Categorical(hour_df['day_time'], categories=['night', 'morning', 'afternoon', \"evening\"])\n",
    "\n",
    "# defining if day is warm or not\n",
    "\n",
    "day_df[\"warm_day\"] = day_df[\"temp\"].apply(lambda value: \"no\" if value < 21 else \"yes\")\n",
    "day_df['warm_day'] = pd.Categorical(day_df['warm_day'], categories=['no', 'yes'])\n",
    "\n",
    "# changing measure unit for temperature(° Celsius), humidity(%) and windspeed(km/h)\n",
    "hour_df[\"temp\"] = hour_df[\"temp\"].apply(lambda value: value if value > 1 else value * 100)\n",
    "hour_df[\"atemp\"] = hour_df[\"atemp\"].apply(lambda value: value if value > 1 else value * 100)\n",
    "hour_df[\"hum\"] = hour_df[\"hum\"].apply(lambda value: value if value > 1 else value * 100)\n",
    "hour_df[\"windspeed\"] = hour_df[\"windspeed\"].apply(lambda value: value if value > 1 else value * 100)\n",
    "day_df[\"temp\"] = day_df[\"temp\"].apply(lambda value: value if value > 1 else value * 100)\n",
    "day_df[\"atemp\"] = day_df[\"atemp\"].apply(lambda value: value if value > 1 else value * 100)\n",
    "day_df[\"hum\"] = day_df[\"hum\"].apply(lambda value: value if value > 1 else value * 100)\n",
    "day_df[\"windspeed\"] = day_df[\"windspeed\"].apply(lambda value: value if value > 1 else value * 100)\n",
    "\n",
    "day_df"
   ]
  }
 ]
}